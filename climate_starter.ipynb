{
 "cells": [
  {
   "cell_type": "code",
   "execution_count": 1,
   "metadata": {},
   "outputs": [],
   "source": [
    "%matplotlib inline\n",
    "from matplotlib import style\n",
    "style.use('seaborn')\n",
    "import matplotlib.pyplot as plt\n",
    "import seaborn as sns\n",
    "\n",
    "import folium\n",
    "from folium.plugins import HeatMap, HeatMapWithTime\n",
    "import os"
   ]
  },
  {
   "cell_type": "code",
   "execution_count": 2,
   "metadata": {},
   "outputs": [],
   "source": [
    "# Plot parameters\n",
    "plt.rcParams['xtick.labelsize'] = 16\n",
    "plt.rcParams['ytick.labelsize'] = 16"
   ]
  },
  {
   "cell_type": "code",
   "execution_count": 3,
   "metadata": {},
   "outputs": [],
   "source": [
    "import numpy as np\n",
    "import pandas as pd"
   ]
  },
  {
   "cell_type": "code",
   "execution_count": 4,
   "metadata": {},
   "outputs": [],
   "source": [
    "import datetime as dt"
   ]
  },
  {
   "cell_type": "markdown",
   "metadata": {},
   "source": [
    "# Reflect Tables into SQLAlchemy ORM"
   ]
  },
  {
   "cell_type": "code",
   "execution_count": 5,
   "metadata": {},
   "outputs": [],
   "source": [
    "# Python SQL toolkit and Object Relational Mapper\n",
    "import sqlalchemy\n",
    "from sqlalchemy.ext.automap import automap_base\n",
    "from sqlalchemy.orm import Session\n",
    "from sqlalchemy import create_engine, func, inspect, distinct"
   ]
  },
  {
   "cell_type": "code",
   "execution_count": 6,
   "metadata": {},
   "outputs": [],
   "source": [
    "engine = create_engine(\"sqlite:///Resources/hawaii.sqlite\")"
   ]
  },
  {
   "cell_type": "code",
   "execution_count": 7,
   "metadata": {},
   "outputs": [],
   "source": [
    "# reflect an existing database into a new model\n",
    "Base = automap_base()\n",
    "# reflect the tables\n",
    "Base.prepare(engine, reflect=True)"
   ]
  },
  {
   "cell_type": "code",
   "execution_count": 8,
   "metadata": {},
   "outputs": [
    {
     "data": {
      "text/plain": [
       "['measurement', 'station']"
      ]
     },
     "execution_count": 8,
     "metadata": {},
     "output_type": "execute_result"
    }
   ],
   "source": [
    "# We can view all of the classes that automap found\n",
    "Base.classes.keys()"
   ]
  },
  {
   "cell_type": "code",
   "execution_count": 9,
   "metadata": {},
   "outputs": [],
   "source": [
    "# Save references to each table\n",
    "Measurement = Base.classes.measurement\n",
    "Station = Base.classes.station"
   ]
  },
  {
   "cell_type": "code",
   "execution_count": 10,
   "metadata": {},
   "outputs": [],
   "source": [
    "inspector = inspect(engine)"
   ]
  },
  {
   "cell_type": "code",
   "execution_count": 11,
   "metadata": {},
   "outputs": [
    {
     "name": "stdout",
     "output_type": "stream",
     "text": [
      "id INTEGER\n",
      "station TEXT\n",
      "date TEXT\n",
      "prcp FLOAT\n",
      "tobs FLOAT\n"
     ]
    }
   ],
   "source": [
    "# Determine the columns in the Measurement table\n",
    "columns_measurement = inspector.get_columns(\"measurement\")\n",
    "\n",
    "for column in columns_measurement:\n",
    "    print(column[\"name\"], column[\"type\"])"
   ]
  },
  {
   "cell_type": "code",
   "execution_count": 12,
   "metadata": {},
   "outputs": [
    {
     "data": {
      "text/plain": [
       "[(1, 'USC00519397', '2010-01-01', 0.08, 65.0),\n",
       " (2, 'USC00519397', '2010-01-02', 0.0, 63.0),\n",
       " (3, 'USC00519397', '2010-01-03', 0.0, 74.0),\n",
       " (4, 'USC00519397', '2010-01-04', 0.0, 76.0),\n",
       " (5, 'USC00519397', '2010-01-06', None, 73.0)]"
      ]
     },
     "execution_count": 12,
     "metadata": {},
     "output_type": "execute_result"
    }
   ],
   "source": [
    "# Preview the Measurement table\n",
    "engine.execute(\"SELECT * FROM measurement LIMIT 5\").fetchall()"
   ]
  },
  {
   "cell_type": "code",
   "execution_count": 13,
   "metadata": {},
   "outputs": [
    {
     "name": "stdout",
     "output_type": "stream",
     "text": [
      "id INTEGER\n",
      "station TEXT\n",
      "name TEXT\n",
      "latitude FLOAT\n",
      "longitude FLOAT\n",
      "elevation FLOAT\n"
     ]
    }
   ],
   "source": [
    "# Determine the columns in the Station table\n",
    "columns_stn = inspector.get_columns(\"station\")\n",
    "\n",
    "for column in columns_stn:\n",
    "    print(column[\"name\"], column[\"type\"])"
   ]
  },
  {
   "cell_type": "code",
   "execution_count": 14,
   "metadata": {},
   "outputs": [
    {
     "data": {
      "text/plain": [
       "[(1, 'USC00519397', 'WAIKIKI 717.2, HI US', 21.2716, -157.8168, 3.0),\n",
       " (2, 'USC00513117', 'KANEOHE 838.1, HI US', 21.4234, -157.8015, 14.6),\n",
       " (3, 'USC00514830', 'KUALOA RANCH HEADQUARTERS 886.9, HI US', 21.5213, -157.8374, 7.0),\n",
       " (4, 'USC00517948', 'PEARL CITY, HI US', 21.3934, -157.9751, 11.9),\n",
       " (5, 'USC00518838', 'UPPER WAHIAWA 874.3, HI US', 21.4992, -158.0111, 306.6),\n",
       " (6, 'USC00519523', 'WAIMANALO EXPERIMENTAL FARM, HI US', 21.33556, -157.71139, 19.5),\n",
       " (7, 'USC00519281', 'WAIHEE 837.5, HI US', 21.45167, -157.84888999999998, 32.9),\n",
       " (8, 'USC00511918', 'HONOLULU OBSERVATORY 702.2, HI US', 21.3152, -157.9992, 0.9),\n",
       " (9, 'USC00516128', 'MANOA LYON ARBO 785.2, HI US', 21.3331, -157.8025, 152.4)]"
      ]
     },
     "execution_count": 14,
     "metadata": {},
     "output_type": "execute_result"
    }
   ],
   "source": [
    "# Preview the Station table\n",
    "engine.execute(\"SELECT * FROM station\").fetchall()"
   ]
  },
  {
   "cell_type": "code",
   "execution_count": 15,
   "metadata": {},
   "outputs": [],
   "source": [
    "# Create our session (link) from Python to the DB\n",
    "session = Session(engine)"
   ]
  },
  {
   "cell_type": "markdown",
   "metadata": {},
   "source": [
    "# Exploratory Climate Analysis"
   ]
  },
  {
   "cell_type": "markdown",
   "metadata": {},
   "source": [
    "## Determining the first and the last records by date"
   ]
  },
  {
   "cell_type": "code",
   "execution_count": 16,
   "metadata": {},
   "outputs": [
    {
     "data": {
      "text/plain": [
       "'2010-01-01'"
      ]
     },
     "execution_count": 16,
     "metadata": {},
     "output_type": "execute_result"
    }
   ],
   "source": [
    "# Return the earliest date in the dataframe\n",
    "Earliest_date = session.query(Measurement.date).order_by(Measurement.date.asc()).first()\n",
    "first_date = Earliest_date[0]\n",
    "first_date"
   ]
  },
  {
   "cell_type": "code",
   "execution_count": 17,
   "metadata": {},
   "outputs": [
    {
     "data": {
      "text/plain": [
       "'2017-08-23'"
      ]
     },
     "execution_count": 17,
     "metadata": {},
     "output_type": "execute_result"
    }
   ],
   "source": [
    "# Return the latest date in the dataframe\n",
    "Latest_date = session.query(Measurement.date).order_by(Measurement.date.desc()).first()\n",
    "end_date = Latest_date[0]\n",
    "end_date"
   ]
  },
  {
   "cell_type": "code",
   "execution_count": 18,
   "metadata": {},
   "outputs": [
    {
     "data": {
      "text/plain": [
       "'2016-08-23'"
      ]
     },
     "execution_count": 18,
     "metadata": {},
     "output_type": "execute_result"
    }
   ],
   "source": [
    "# Calculate the date 1 year ago from the last data point in the database\n",
    "year_ago = dt.date(int(end_date[0:4]), int(end_date[5:7]), int(end_date[8:11])) - dt.timedelta(days = 365)\n",
    "start_date = str(year_ago)\n",
    "start_date"
   ]
  },
  {
   "cell_type": "markdown",
   "metadata": {},
   "source": [
    "## Station Analysis"
   ]
  },
  {
   "cell_type": "code",
   "execution_count": 19,
   "metadata": {},
   "outputs": [
    {
     "name": "stdout",
     "output_type": "stream",
     "text": [
      " There were 9 weather stations monitored in Hawaii in this study.\n"
     ]
    }
   ],
   "source": [
    "# Design a query to show how many stations are available in this dataset \n",
    "no_stns = session.query(func.count(distinct(Measurement.station))).all()\n",
    "print(f\" There were {no_stns[0][0]} weather stations monitored in Hawaii in this study.\")"
   ]
  },
  {
   "cell_type": "code",
   "execution_count": 20,
   "metadata": {},
   "outputs": [],
   "source": [
    "# Merge the measurement and the station tables based on station id\n",
    "sel = [Measurement.station, Measurement.date, Measurement.prcp, Measurement.tobs,\n",
    "       Station.name, Station.elevation, Station.latitude, Station.longitude]\n",
    "\n",
    "same_stn = session.query(*sel).filter(Measurement.station == Station.station).\\\n",
    "           all()"
   ]
  },
  {
   "cell_type": "code",
   "execution_count": 21,
   "metadata": {},
   "outputs": [
    {
     "data": {
      "text/html": [
       "<div>\n",
       "<style scoped>\n",
       "    .dataframe tbody tr th:only-of-type {\n",
       "        vertical-align: middle;\n",
       "    }\n",
       "\n",
       "    .dataframe tbody tr th {\n",
       "        vertical-align: top;\n",
       "    }\n",
       "\n",
       "    .dataframe thead th {\n",
       "        text-align: right;\n",
       "    }\n",
       "</style>\n",
       "<table border=\"1\" class=\"dataframe\">\n",
       "  <thead>\n",
       "    <tr style=\"text-align: right;\">\n",
       "      <th></th>\n",
       "      <th>station</th>\n",
       "      <th>date</th>\n",
       "      <th>prcp</th>\n",
       "      <th>tobs</th>\n",
       "      <th>name</th>\n",
       "      <th>elevation</th>\n",
       "      <th>latitude</th>\n",
       "      <th>longitude</th>\n",
       "    </tr>\n",
       "  </thead>\n",
       "  <tbody>\n",
       "    <tr>\n",
       "      <th>0</th>\n",
       "      <td>USC00519397</td>\n",
       "      <td>2010-01-01</td>\n",
       "      <td>0.08</td>\n",
       "      <td>65.0</td>\n",
       "      <td>WAIKIKI 717.2, HI US</td>\n",
       "      <td>3.0</td>\n",
       "      <td>21.2716</td>\n",
       "      <td>-157.8168</td>\n",
       "    </tr>\n",
       "    <tr>\n",
       "      <th>1</th>\n",
       "      <td>USC00519397</td>\n",
       "      <td>2010-01-02</td>\n",
       "      <td>0.00</td>\n",
       "      <td>63.0</td>\n",
       "      <td>WAIKIKI 717.2, HI US</td>\n",
       "      <td>3.0</td>\n",
       "      <td>21.2716</td>\n",
       "      <td>-157.8168</td>\n",
       "    </tr>\n",
       "    <tr>\n",
       "      <th>2</th>\n",
       "      <td>USC00519397</td>\n",
       "      <td>2010-01-03</td>\n",
       "      <td>0.00</td>\n",
       "      <td>74.0</td>\n",
       "      <td>WAIKIKI 717.2, HI US</td>\n",
       "      <td>3.0</td>\n",
       "      <td>21.2716</td>\n",
       "      <td>-157.8168</td>\n",
       "    </tr>\n",
       "    <tr>\n",
       "      <th>3</th>\n",
       "      <td>USC00519397</td>\n",
       "      <td>2010-01-04</td>\n",
       "      <td>0.00</td>\n",
       "      <td>76.0</td>\n",
       "      <td>WAIKIKI 717.2, HI US</td>\n",
       "      <td>3.0</td>\n",
       "      <td>21.2716</td>\n",
       "      <td>-157.8168</td>\n",
       "    </tr>\n",
       "    <tr>\n",
       "      <th>4</th>\n",
       "      <td>USC00519397</td>\n",
       "      <td>2010-01-06</td>\n",
       "      <td>NaN</td>\n",
       "      <td>73.0</td>\n",
       "      <td>WAIKIKI 717.2, HI US</td>\n",
       "      <td>3.0</td>\n",
       "      <td>21.2716</td>\n",
       "      <td>-157.8168</td>\n",
       "    </tr>\n",
       "  </tbody>\n",
       "</table>\n",
       "</div>"
      ],
      "text/plain": [
       "       station        date  prcp  tobs                  name  elevation  \\\n",
       "0  USC00519397  2010-01-01  0.08  65.0  WAIKIKI 717.2, HI US        3.0   \n",
       "1  USC00519397  2010-01-02  0.00  63.0  WAIKIKI 717.2, HI US        3.0   \n",
       "2  USC00519397  2010-01-03  0.00  74.0  WAIKIKI 717.2, HI US        3.0   \n",
       "3  USC00519397  2010-01-04  0.00  76.0  WAIKIKI 717.2, HI US        3.0   \n",
       "4  USC00519397  2010-01-06   NaN  73.0  WAIKIKI 717.2, HI US        3.0   \n",
       "\n",
       "   latitude  longitude  \n",
       "0   21.2716  -157.8168  \n",
       "1   21.2716  -157.8168  \n",
       "2   21.2716  -157.8168  \n",
       "3   21.2716  -157.8168  \n",
       "4   21.2716  -157.8168  "
      ]
     },
     "execution_count": 21,
     "metadata": {},
     "output_type": "execute_result"
    }
   ],
   "source": [
    "# Create a dataframe combining Measurement and Station data\n",
    "df1 = pd.DataFrame(same_stn)\n",
    "df1.head()"
   ]
  },
  {
   "cell_type": "code",
   "execution_count": 22,
   "metadata": {},
   "outputs": [
    {
     "data": {
      "image/png": "[encoded data removed]",
      "text/plain": [
       "<Figure size 1080x576 with 1 Axes>"
      ]
     },
     "metadata": {},
     "output_type": "display_data"
    }
   ],
   "source": [
    "# Visualise the precipitation ranges per weather station\n",
    "b = df1.boxplot(by=\"station\", column = [\"prcp\"], figsize = (15,8))\n",
    "plt.xticks(rotation = 90)\n",
    "plt.xlabel(\"Station\", fontsize = 16)\n",
    "plt.ylabel(\"Precipitation (in)\", fontsize = 16)\n",
    "plt.ylim(-0.1,2)\n",
    "plt.title(\"\")\n",
    "plt.suptitle(\"\")\n",
    "plt.tight_layout()\n",
    "plt.savefig(\"Images/compare_precipitation.svg\")\n",
    "plt.savefig(\"Images/compare_precipitation.png\")"
   ]
  },
  {
   "cell_type": "code",
   "execution_count": 23,
   "metadata": {},
   "outputs": [
    {
     "data": {
      "image/png": "[encoded data removed]",
      "text/plain": [
       "<Figure size 1080x576 with 1 Axes>"
      ]
     },
     "metadata": {},
     "output_type": "display_data"
    }
   ],
   "source": [
    "# Visualise the temperature ranges per weather station\n",
    "b = df1.boxplot(by=\"station\", column = [\"tobs\"], figsize = (15,8))\n",
    "plt.xticks(rotation = 90)\n",
    "plt.xlabel(\"Station\", fontsize = 16)\n",
    "plt.ylabel(\"Temperature (°F)\", fontsize = 16)\n",
    "plt.ylim(50,100)\n",
    "plt.title(\"\")\n",
    "plt.suptitle(\"\")\n",
    "plt.tight_layout()\n",
    "plt.savefig(\"Images/compare_temp.svg\")\n",
    "plt.savefig(\"Images/compare_temp.png\")"
   ]
  },
  {
   "cell_type": "code",
   "execution_count": 24,
   "metadata": {},
   "outputs": [
    {
     "data": {
      "text/html": [
       "<div>\n",
       "<style scoped>\n",
       "    .dataframe tbody tr th:only-of-type {\n",
       "        vertical-align: middle;\n",
       "    }\n",
       "\n",
       "    .dataframe tbody tr th {\n",
       "        vertical-align: top;\n",
       "    }\n",
       "\n",
       "    .dataframe thead th {\n",
       "        text-align: right;\n",
       "    }\n",
       "</style>\n",
       "<table border=\"1\" class=\"dataframe\">\n",
       "  <thead>\n",
       "    <tr style=\"text-align: right;\">\n",
       "      <th></th>\n",
       "      <th>station</th>\n",
       "      <th>prcp</th>\n",
       "      <th>tobs</th>\n",
       "      <th>elevation</th>\n",
       "      <th>latitude</th>\n",
       "      <th>longitude</th>\n",
       "    </tr>\n",
       "  </thead>\n",
       "  <tbody>\n",
       "    <tr>\n",
       "      <th>0</th>\n",
       "      <td>USC00511918</td>\n",
       "      <td>0.047971</td>\n",
       "      <td>71.615968</td>\n",
       "      <td>0.9</td>\n",
       "      <td>21.31520</td>\n",
       "      <td>-157.99920</td>\n",
       "    </tr>\n",
       "    <tr>\n",
       "      <th>1</th>\n",
       "      <td>USC00513117</td>\n",
       "      <td>0.141921</td>\n",
       "      <td>72.689184</td>\n",
       "      <td>14.6</td>\n",
       "      <td>21.42340</td>\n",
       "      <td>-157.80150</td>\n",
       "    </tr>\n",
       "    <tr>\n",
       "      <th>2</th>\n",
       "      <td>USC00514830</td>\n",
       "      <td>0.121058</td>\n",
       "      <td>74.873297</td>\n",
       "      <td>7.0</td>\n",
       "      <td>21.52130</td>\n",
       "      <td>-157.83740</td>\n",
       "    </tr>\n",
       "    <tr>\n",
       "      <th>3</th>\n",
       "      <td>USC00516128</td>\n",
       "      <td>0.429988</td>\n",
       "      <td>70.915008</td>\n",
       "      <td>152.4</td>\n",
       "      <td>21.33310</td>\n",
       "      <td>-157.80250</td>\n",
       "    </tr>\n",
       "    <tr>\n",
       "      <th>4</th>\n",
       "      <td>USC00517948</td>\n",
       "      <td>0.063602</td>\n",
       "      <td>74.684402</td>\n",
       "      <td>11.9</td>\n",
       "      <td>21.39340</td>\n",
       "      <td>-157.97510</td>\n",
       "    </tr>\n",
       "    <tr>\n",
       "      <th>5</th>\n",
       "      <td>USC00518838</td>\n",
       "      <td>0.207222</td>\n",
       "      <td>72.724070</td>\n",
       "      <td>306.6</td>\n",
       "      <td>21.49920</td>\n",
       "      <td>-158.01110</td>\n",
       "    </tr>\n",
       "    <tr>\n",
       "      <th>6</th>\n",
       "      <td>USC00519281</td>\n",
       "      <td>0.212352</td>\n",
       "      <td>71.663781</td>\n",
       "      <td>32.9</td>\n",
       "      <td>21.45167</td>\n",
       "      <td>-157.84889</td>\n",
       "    </tr>\n",
       "    <tr>\n",
       "      <th>7</th>\n",
       "      <td>USC00519397</td>\n",
       "      <td>0.049020</td>\n",
       "      <td>74.553231</td>\n",
       "      <td>3.0</td>\n",
       "      <td>21.27160</td>\n",
       "      <td>-157.81680</td>\n",
       "    </tr>\n",
       "    <tr>\n",
       "      <th>8</th>\n",
       "      <td>USC00519523</td>\n",
       "      <td>0.114961</td>\n",
       "      <td>74.543649</td>\n",
       "      <td>19.5</td>\n",
       "      <td>21.33556</td>\n",
       "      <td>-157.71139</td>\n",
       "    </tr>\n",
       "  </tbody>\n",
       "</table>\n",
       "</div>"
      ],
      "text/plain": [
       "       station      prcp       tobs  elevation  latitude  longitude\n",
       "0  USC00511918  0.047971  71.615968        0.9  21.31520 -157.99920\n",
       "1  USC00513117  0.141921  72.689184       14.6  21.42340 -157.80150\n",
       "2  USC00514830  0.121058  74.873297        7.0  21.52130 -157.83740\n",
       "3  USC00516128  0.429988  70.915008      152.4  21.33310 -157.80250\n",
       "4  USC00517948  0.063602  74.684402       11.9  21.39340 -157.97510\n",
       "5  USC00518838  0.207222  72.724070      306.6  21.49920 -158.01110\n",
       "6  USC00519281  0.212352  71.663781       32.9  21.45167 -157.84889\n",
       "7  USC00519397  0.049020  74.553231        3.0  21.27160 -157.81680\n",
       "8  USC00519523  0.114961  74.543649       19.5  21.33556 -157.71139"
      ]
     },
     "execution_count": 24,
     "metadata": {},
     "output_type": "execute_result"
    }
   ],
   "source": [
    "# Get averages for precipitation and observed temperature\n",
    "grouped_df1 = df1.groupby(\"station\").mean()\n",
    "grouped_df1 = grouped_df1.reset_index()\n",
    "grouped_df1"
   ]
  },
  {
   "cell_type": "code",
   "execution_count": 25,
   "metadata": {},
   "outputs": [],
   "source": [
    "# Create lists of latitudes, longitudes, and station names\n",
    "lat_lst = list(grouped_df1['latitude'])\n",
    "lng_lst = list(grouped_df1['longitude'])\n",
    "stn_lst = list(grouped_df1['station'])\n",
    "prcp_lst = list(grouped_df1['prcp'])\n",
    "tobs_lst = list(grouped_df1['tobs'])\n",
    "elev_lst = list(grouped_df1['elevation'])"
   ]
  },
  {
   "cell_type": "code",
   "execution_count": 26,
   "metadata": {},
   "outputs": [],
   "source": [
    "# Create map of stations\n",
    "\n",
    "# Make an empty map\n",
    "m = folium.Map(location = [21.4513, -158.0153],\n",
    "               zoom_start = 10)\n",
    "feature_group = folium.FeatureGroup(\"Locations\")\n",
    "\n",
    "# Add markers one by one on the map\n",
    "for lat, lng, stn, elev in zip(lat_lst, lng_lst, stn_lst, elev_lst):\n",
    "    feature_group.add_child(folium.Marker(location = [lat, lng], \n",
    "                            popup = f'Station ID: {stn}<br>Elev: {round(elev,2)}')\n",
    "                           )\n",
    "    \n",
    "m.add_child(feature_group)\n",
    "    \n",
    "# Save as html\n",
    "m.save(\"Images/markers_on_Oahu_map.html\")"
   ]
  },
  {
   "cell_type": "markdown",
   "metadata": {},
   "source": [
    "## Data from the most active station"
   ]
  },
  {
   "cell_type": "code",
   "execution_count": 27,
   "metadata": {},
   "outputs": [
    {
     "data": {
      "text/plain": [
       "[('USC00519281', 2772),\n",
       " ('USC00519397', 2724),\n",
       " ('USC00513117', 2709),\n",
       " ('USC00519523', 2669),\n",
       " ('USC00516128', 2612),\n",
       " ('USC00514830', 2202),\n",
       " ('USC00511918', 1979),\n",
       " ('USC00517948', 1372),\n",
       " ('USC00518838', 511)]"
      ]
     },
     "execution_count": 27,
     "metadata": {},
     "output_type": "execute_result"
    }
   ],
   "source": [
    "# Select the columns for the analyses\n",
    "sel2 = [Measurement.station, func.count(Measurement.station)]\n",
    "\n",
    "# What are the most active stations? (i.e. what stations have the most rows)?\n",
    "stn_count = session.query(*sel2).group_by(Measurement.station).\\\n",
    "            order_by(func.count(Measurement.station).desc()).\\\n",
    "            all()\n",
    "\n",
    "# List the stations and the number of records\n",
    "stn_count"
   ]
  },
  {
   "cell_type": "code",
   "execution_count": 28,
   "metadata": {},
   "outputs": [
    {
     "name": "stdout",
     "output_type": "stream",
     "text": [
      "The most active station is USC00519281 with 2772 observations in August 2016–2017.\n"
     ]
    }
   ],
   "source": [
    "# Select the most active station (most number of measurements)\n",
    "most_active_stn = stn_count[0][0]\n",
    "print(f\"The most active station is {most_active_stn} with {stn_count[0][1]} observations \"\n",
    "      f\"in August 2016–2017.\")"
   ]
  },
  {
   "cell_type": "code",
   "execution_count": 29,
   "metadata": {},
   "outputs": [
    {
     "name": "stdout",
     "output_type": "stream",
     "text": [
      "Statistics for USC00519281:\n",
      "Temp min: 59.0 °F\n",
      "Temp avg: 73.1 °F\n",
      "Temp max: 83.0 °F\n",
      "Precipitation min: 0.0 in\n",
      "Precipitation avg: 0.2 in\n",
      "Precipitation max: 3.0 in\n",
      "\n"
     ]
    }
   ],
   "source": [
    "# Calculate the minimum, average, and maximum temperature and precipitation \n",
    "# in the most active station in the last year on record\n",
    "sel3 = [func.min(Measurement.prcp), func.avg(Measurement.prcp), func.max(Measurement.prcp), \n",
    "        func.min(Measurement.tobs), func.avg(Measurement.tobs), func.max(Measurement.tobs)]\n",
    "\n",
    "summary_weather = session.query(*sel3).filter(Measurement.station == most_active_stn).\\\n",
    "filter(Measurement.date >= start_date).filter(Measurement.date <= end_date).all()\n",
    "\n",
    "prcp_min = round(summary_weather[0][0], 1)\n",
    "prcp_avg = round(summary_weather[0][1], 1)\n",
    "prcp_max = round(summary_weather[0][2], 1)\n",
    "temp_min = round(summary_weather[0][3], 1)\n",
    "temp_avg = round(summary_weather[0][4], 1)\n",
    "temp_max = round(summary_weather[0][5], 1)\n",
    "\n",
    "print(f\"Statistics for {most_active_stn}:\\n\"\n",
    "      f\"Temp min: {temp_min} °F\\n\"\n",
    "      f\"Temp avg: {temp_avg} °F\\n\"\n",
    "      f\"Temp max: {temp_max} °F\\n\"\n",
    "      f\"Precipitation min: {prcp_min} in\\n\"\n",
    "      f\"Precipitation avg: {prcp_avg} in\\n\"\n",
    "      f\"Precipitation max: {prcp_max} in\\n\")"
   ]
  },
  {
   "cell_type": "markdown",
   "metadata": {},
   "source": [
    "## Precipitation in O'ahu for the last 12 months"
   ]
  },
  {
   "cell_type": "code",
   "execution_count": 30,
   "metadata": {},
   "outputs": [],
   "source": [
    "# Select the columns for the analyses\n",
    "sel4 = [Measurement.date, Measurement.station, Measurement.prcp]\n",
    "\n",
    "# Perform a query to retrieve the total observations and precipitation measurements\n",
    "data = session.query(*sel4).filter(Measurement.date > year_ago).all()"
   ]
  },
  {
   "cell_type": "code",
   "execution_count": null,
   "metadata": {},
   "outputs": [],
   "source": [
    "data2 = session.query(Measurement).filter(Measurement.date > year_ago).all()"
   ]
  },
  {
   "cell_type": "code",
   "execution_count": 32,
   "metadata": {},
   "outputs": [
    {
     "data": {
      "text/html": [
       "<div>\n",
       "<style scoped>\n",
       "    .dataframe tbody tr th:only-of-type {\n",
       "        vertical-align: middle;\n",
       "    }\n",
       "\n",
       "    .dataframe tbody tr th {\n",
       "        vertical-align: top;\n",
       "    }\n",
       "\n",
       "    .dataframe thead th {\n",
       "        text-align: right;\n",
       "    }\n",
       "</style>\n",
       "<table border=\"1\" class=\"dataframe\">\n",
       "  <thead>\n",
       "    <tr style=\"text-align: right;\">\n",
       "      <th></th>\n",
       "      <th>station</th>\n",
       "      <th>prcp</th>\n",
       "    </tr>\n",
       "    <tr>\n",
       "      <th>date</th>\n",
       "      <th></th>\n",
       "      <th></th>\n",
       "    </tr>\n",
       "  </thead>\n",
       "  <tbody>\n",
       "    <tr>\n",
       "      <th>2016-08-24</th>\n",
       "      <td>USC00519397</td>\n",
       "      <td>0.08</td>\n",
       "    </tr>\n",
       "    <tr>\n",
       "      <th>2016-08-24</th>\n",
       "      <td>USC00517948</td>\n",
       "      <td>NaN</td>\n",
       "    </tr>\n",
       "    <tr>\n",
       "      <th>2016-08-24</th>\n",
       "      <td>USC00519281</td>\n",
       "      <td>2.15</td>\n",
       "    </tr>\n",
       "    <tr>\n",
       "      <th>2016-08-24</th>\n",
       "      <td>USC00514830</td>\n",
       "      <td>2.28</td>\n",
       "    </tr>\n",
       "    <tr>\n",
       "      <th>2016-08-24</th>\n",
       "      <td>USC00513117</td>\n",
       "      <td>2.15</td>\n",
       "    </tr>\n",
       "  </tbody>\n",
       "</table>\n",
       "</div>"
      ],
      "text/plain": [
       "                station  prcp\n",
       "date                         \n",
       "2016-08-24  USC00519397  0.08\n",
       "2016-08-24  USC00517948   NaN\n",
       "2016-08-24  USC00519281  2.15\n",
       "2016-08-24  USC00514830  2.28\n",
       "2016-08-24  USC00513117  2.15"
      ]
     },
     "execution_count": 32,
     "metadata": {},
     "output_type": "execute_result"
    }
   ],
   "source": [
    "# Save the query results as a Pandas DataFrame and set the index to the date column\n",
    "df2 = pd.DataFrame(data)\n",
    "df2 = df2.sort_values(\"date\", ascending = True) # Sort the dataframe by date\n",
    "df2 = df2.set_index(\"date\")\n",
    "df2.head()"
   ]
  },
  {
   "cell_type": "code",
   "execution_count": 33,
   "metadata": {},
   "outputs": [
    {
     "data": {
      "text/html": [
       "<div>\n",
       "<style scoped>\n",
       "    .dataframe tbody tr th:only-of-type {\n",
       "        vertical-align: middle;\n",
       "    }\n",
       "\n",
       "    .dataframe tbody tr th {\n",
       "        vertical-align: top;\n",
       "    }\n",
       "\n",
       "    .dataframe thead tr th {\n",
       "        text-align: left;\n",
       "    }\n",
       "\n",
       "    .dataframe thead tr:last-of-type th {\n",
       "        text-align: right;\n",
       "    }\n",
       "</style>\n",
       "<table border=\"1\" class=\"dataframe\">\n",
       "  <thead>\n",
       "    <tr>\n",
       "      <th></th>\n",
       "      <th colspan=\"8\" halign=\"left\">prcp</th>\n",
       "    </tr>\n",
       "    <tr>\n",
       "      <th></th>\n",
       "      <th>count</th>\n",
       "      <th>mean</th>\n",
       "      <th>std</th>\n",
       "      <th>min</th>\n",
       "      <th>25%</th>\n",
       "      <th>50%</th>\n",
       "      <th>75%</th>\n",
       "      <th>max</th>\n",
       "    </tr>\n",
       "    <tr>\n",
       "      <th>date</th>\n",
       "      <th></th>\n",
       "      <th></th>\n",
       "      <th></th>\n",
       "      <th></th>\n",
       "      <th></th>\n",
       "      <th></th>\n",
       "      <th></th>\n",
       "      <th></th>\n",
       "    </tr>\n",
       "  </thead>\n",
       "  <tbody>\n",
       "    <tr>\n",
       "      <th>2016-08-24</th>\n",
       "      <td>6.0</td>\n",
       "      <td>1.555000</td>\n",
       "      <td>0.840541</td>\n",
       "      <td>0.08</td>\n",
       "      <td>1.2775</td>\n",
       "      <td>1.800</td>\n",
       "      <td>2.1500</td>\n",
       "      <td>2.28</td>\n",
       "    </tr>\n",
       "    <tr>\n",
       "      <th>2016-08-25</th>\n",
       "      <td>7.0</td>\n",
       "      <td>0.077143</td>\n",
       "      <td>0.071813</td>\n",
       "      <td>0.00</td>\n",
       "      <td>0.0300</td>\n",
       "      <td>0.080</td>\n",
       "      <td>0.0950</td>\n",
       "      <td>0.21</td>\n",
       "    </tr>\n",
       "    <tr>\n",
       "      <th>2016-08-26</th>\n",
       "      <td>6.0</td>\n",
       "      <td>0.016667</td>\n",
       "      <td>0.016330</td>\n",
       "      <td>0.00</td>\n",
       "      <td>0.0025</td>\n",
       "      <td>0.015</td>\n",
       "      <td>0.0275</td>\n",
       "      <td>0.04</td>\n",
       "    </tr>\n",
       "    <tr>\n",
       "      <th>2016-08-27</th>\n",
       "      <td>5.0</td>\n",
       "      <td>0.064000</td>\n",
       "      <td>0.081731</td>\n",
       "      <td>0.00</td>\n",
       "      <td>0.0000</td>\n",
       "      <td>0.020</td>\n",
       "      <td>0.1200</td>\n",
       "      <td>0.18</td>\n",
       "    </tr>\n",
       "    <tr>\n",
       "      <th>2016-08-28</th>\n",
       "      <td>6.0</td>\n",
       "      <td>0.516667</td>\n",
       "      <td>0.787672</td>\n",
       "      <td>0.01</td>\n",
       "      <td>0.1400</td>\n",
       "      <td>0.140</td>\n",
       "      <td>0.4850</td>\n",
       "      <td>2.07</td>\n",
       "    </tr>\n",
       "  </tbody>\n",
       "</table>\n",
       "</div>"
      ],
      "text/plain": [
       "            prcp                                                       \n",
       "           count      mean       std   min     25%    50%     75%   max\n",
       "date                                                                   \n",
       "2016-08-24   6.0  1.555000  0.840541  0.08  1.2775  1.800  2.1500  2.28\n",
       "2016-08-25   7.0  0.077143  0.071813  0.00  0.0300  0.080  0.0950  0.21\n",
       "2016-08-26   6.0  0.016667  0.016330  0.00  0.0025  0.015  0.0275  0.04\n",
       "2016-08-27   5.0  0.064000  0.081731  0.00  0.0000  0.020  0.1200  0.18\n",
       "2016-08-28   6.0  0.516667  0.787672  0.01  0.1400  0.140  0.4850  2.07"
      ]
     },
     "execution_count": 33,
     "metadata": {},
     "output_type": "execute_result"
    }
   ],
   "source": [
    "# Use Pandas to calculate the summary statistics for precipitation\n",
    "grouped = df2.groupby(\"date\").describe()\n",
    "grouped.head()"
   ]
  },
  {
   "cell_type": "code",
   "execution_count": 36,
   "metadata": {},
   "outputs": [
    {
     "data": {
      "text/html": [
       "<div>\n",
       "<style scoped>\n",
       "    .dataframe tbody tr th:only-of-type {\n",
       "        vertical-align: middle;\n",
       "    }\n",
       "\n",
       "    .dataframe tbody tr th {\n",
       "        vertical-align: top;\n",
       "    }\n",
       "\n",
       "    .dataframe thead th {\n",
       "        text-align: right;\n",
       "    }\n",
       "</style>\n",
       "<table border=\"1\" class=\"dataframe\">\n",
       "  <thead>\n",
       "    <tr style=\"text-align: right;\">\n",
       "      <th></th>\n",
       "      <th>prcp</th>\n",
       "    </tr>\n",
       "    <tr>\n",
       "      <th>date</th>\n",
       "      <th></th>\n",
       "    </tr>\n",
       "  </thead>\n",
       "  <tbody>\n",
       "    <tr>\n",
       "      <th>2016-08-24</th>\n",
       "      <td>9.33</td>\n",
       "    </tr>\n",
       "    <tr>\n",
       "      <th>2016-08-25</th>\n",
       "      <td>0.54</td>\n",
       "    </tr>\n",
       "    <tr>\n",
       "      <th>2016-08-26</th>\n",
       "      <td>0.10</td>\n",
       "    </tr>\n",
       "    <tr>\n",
       "      <th>2016-08-27</th>\n",
       "      <td>0.32</td>\n",
       "    </tr>\n",
       "    <tr>\n",
       "      <th>2016-08-28</th>\n",
       "      <td>3.10</td>\n",
       "    </tr>\n",
       "  </tbody>\n",
       "</table>\n",
       "</div>"
      ],
      "text/plain": [
       "            prcp\n",
       "date            \n",
       "2016-08-24  9.33\n",
       "2016-08-25  0.54\n",
       "2016-08-26  0.10\n",
       "2016-08-27  0.32\n",
       "2016-08-28  3.10"
      ]
     },
     "execution_count": 36,
     "metadata": {},
     "output_type": "execute_result"
    }
   ],
   "source": [
    "# Calculate the daily sum of precipitation\n",
    "pptn_df = df2.groupby(\"date\").sum()\n",
    "pptn_df.head()"
   ]
  },
  {
   "cell_type": "code",
   "execution_count": 37,
   "metadata": {},
   "outputs": [
    {
     "data": {
      "text/plain": [
       "dtype('O')"
      ]
     },
     "execution_count": 37,
     "metadata": {},
     "output_type": "execute_result"
    }
   ],
   "source": [
    "# Data type of the date\n",
    "pptn_df.index.values.dtype"
   ]
  },
  {
   "cell_type": "markdown",
   "metadata": {},
   "source": [
    "## Precipitation Plots"
   ]
  },
  {
   "cell_type": "code",
   "execution_count": 39,
   "metadata": {},
   "outputs": [
    {
     "data": {
      "text/plain": [
       "PeriodIndex(['2016-08-24', '2016-08-25', '2016-08-26', '2016-08-27',\n",
       "             '2016-08-28', '2016-08-29', '2016-08-30', '2016-08-31',\n",
       "             '2016-09-01', '2016-09-02',\n",
       "             ...\n",
       "             '2017-08-14', '2017-08-15', '2017-08-16', '2017-08-17',\n",
       "             '2017-08-18', '2017-08-19', '2017-08-20', '2017-08-21',\n",
       "             '2017-08-22', '2017-08-23'],\n",
       "            dtype='period[D]', name='date', length=365, freq='D')"
      ]
     },
     "execution_count": 39,
     "metadata": {},
     "output_type": "execute_result"
    }
   ],
   "source": [
    "# Date is currently set as string; need to convert to datetime and then to period format\n",
    "# Resource: http://earthpy.org/time_series_analysis_with_pandas_part_2.html\n",
    "\n",
    "pptn_df[\"prcp\"].index = pd.to_datetime(pptn_df[\"prcp\"].index) # string to datetime\n",
    "pptn_df.index = pptn_df[\"prcp\"].to_period(freq = \"D\").index # time stamps to daily time periods\n",
    "pptn_df.index"
   ]
  },
  {
   "cell_type": "code",
   "execution_count": 42,
   "metadata": {
    "scrolled": true
   },
   "outputs": [
    {
     "data": {
      "image/png": "[encoded data removed]",
      "text/plain": [
       "<Figure size 1080x576 with 1 Axes>"
      ]
     },
     "metadata": {},
     "output_type": "display_data"
    }
   ],
   "source": [
    "# Timeseries plot by a daily frequency\n",
    "pptn_df.plot(y = \"prcp\", figsize = (15,8), legend = False)\n",
    "plt.xlabel(\"Date\", fontsize = 16)\n",
    "plt.ylabel(\"Daily Precipitation (in)\", fontsize = 16)\n",
    "plt.tight_layout()\n",
    "plt.savefig(\"Images/pptn.svg\")\n",
    "plt.savefig(\"Images/pptn.png\")"
   ]
  },
  {
   "cell_type": "code",
   "execution_count": 43,
   "metadata": {},
   "outputs": [
    {
     "data": {
      "text/html": [
       "<div>\n",
       "<style scoped>\n",
       "    .dataframe tbody tr th:only-of-type {\n",
       "        vertical-align: middle;\n",
       "    }\n",
       "\n",
       "    .dataframe tbody tr th {\n",
       "        vertical-align: top;\n",
       "    }\n",
       "\n",
       "    .dataframe thead th {\n",
       "        text-align: right;\n",
       "    }\n",
       "</style>\n",
       "<table border=\"1\" class=\"dataframe\">\n",
       "  <thead>\n",
       "    <tr style=\"text-align: right;\">\n",
       "      <th></th>\n",
       "      <th>prcp</th>\n",
       "    </tr>\n",
       "    <tr>\n",
       "      <th>date</th>\n",
       "      <th></th>\n",
       "    </tr>\n",
       "  </thead>\n",
       "  <tbody>\n",
       "    <tr>\n",
       "      <th>2016-08</th>\n",
       "      <td>2.262500</td>\n",
       "    </tr>\n",
       "    <tr>\n",
       "      <th>2016-09</th>\n",
       "      <td>1.646667</td>\n",
       "    </tr>\n",
       "    <tr>\n",
       "      <th>2016-10</th>\n",
       "      <td>0.702258</td>\n",
       "    </tr>\n",
       "    <tr>\n",
       "      <th>2016-11</th>\n",
       "      <td>0.685333</td>\n",
       "    </tr>\n",
       "    <tr>\n",
       "      <th>2016-12</th>\n",
       "      <td>1.145484</td>\n",
       "    </tr>\n",
       "  </tbody>\n",
       "</table>\n",
       "</div>"
      ],
      "text/plain": [
       "             prcp\n",
       "date             \n",
       "2016-08  2.262500\n",
       "2016-09  1.646667\n",
       "2016-10  0.702258\n",
       "2016-11  0.685333\n",
       "2016-12  1.145484"
      ]
     },
     "execution_count": 43,
     "metadata": {},
     "output_type": "execute_result"
    }
   ],
   "source": [
    "# Get the mean by month\n",
    "pptn_df_monthly_avg = pptn_df.iloc[:, 0:1].resample(\"M\").mean() \n",
    "pptn_df_monthly_avg.head()"
   ]
  },
  {
   "cell_type": "code",
   "execution_count": 46,
   "metadata": {
    "scrolled": true
   },
   "outputs": [
    {
     "data": {
      "image/png": "[encoded data removed]",
      "text/plain": [
       "<Figure size 1080x576 with 1 Axes>"
      ]
     },
     "metadata": {},
     "output_type": "display_data"
    }
   ],
   "source": [
    "# Monthly precipitation averages for one year\n",
    "x = np.arange(len(pptn_df_monthly_avg.index))\n",
    "y = pptn_df_monthly_avg[\"prcp\"].values\n",
    "plt.figure(figsize = (15,8))\n",
    "plt.plot(x, y, marker = \"o\", markersize = 12, color = \"red\")\n",
    "\n",
    "# Calculate the trendline (linear fitting)\n",
    "# Resource: http://widu.tumblr.com/post/43624347354/matplotlib-trendline\n",
    "z = np.polyfit(x, y, 1) \n",
    "p = np.poly1d(z)\n",
    "plt.plot(x, p(x),\"b--\")\n",
    "\n",
    "# the line equation:\n",
    "equation = (f\"y = %.3fx + %.3f\"%(z[0],z[1]))\n",
    "\n",
    "# Plot attributes\n",
    "plt.text(-0.55,0.22, equation, fontsize = 16)\n",
    "plt.ylabel(\"Average Precipitation\", fontsize = 16)\n",
    "plt.xlabel(\"Month\", fontsize = 16)\n",
    "plt.xticks(x, pptn_df_monthly_avg.index.values, rotation = 45)\n",
    "plt.tight_layout()\n",
    "plt.savefig(\"Images/pptn_monthly_avg.svg\")\n",
    "plt.savefig(\"Images/pptn_monthly_avg.png\")"
   ]
  },
  {
   "cell_type": "code",
   "execution_count": 47,
   "metadata": {},
   "outputs": [
    {
     "data": {
      "image/png": "[encoded data removed]",
      "text/plain": [
       "<Figure size 1080x576 with 1 Axes>"
      ]
     },
     "metadata": {},
     "output_type": "display_data"
    }
   ],
   "source": [
    "# Precipitation distribution\n",
    "plt.figure(figsize = (15,8))\n",
    "sns.distplot(pptn_df[\"prcp\"], kde = True, hist = False, rug = True,\n",
    "             kde_kws = {\"shade\": True, \"linewidth\": 3},\n",
    "             rug_kws = {\"color\": \"black\"})\n",
    "plt.xlabel(\"Precipitation\", fontsize = 16)\n",
    "plt.ylabel(\"Density\", fontsize = 16)\n",
    "plt.tight_layout()\n",
    "plt.savefig(\"Images/density_precipitation.svg\")\n",
    "plt.savefig(\"Images/density_precipitation.png\")"
   ]
  },
  {
   "cell_type": "markdown",
   "metadata": {},
   "source": [
    "## Temperature Analysis"
   ]
  },
  {
   "cell_type": "code",
   "execution_count": null,
   "metadata": {},
   "outputs": [],
   "source": [
    "# Query the last 12 months of temperature observation data\n",
    "tobs_12mos = session.query(Measurement.date, Measurement.station, Measurement.tobs).\\\n",
    "             filter(Measurement.date >= start_date).all()"
   ]
  },
  {
   "cell_type": "code",
   "execution_count": null,
   "metadata": {},
   "outputs": [],
   "source": [
    "# Put the list into a dataframe\n",
    "df2 = pd.DataFrame(tobs_12mos)\n",
    "df2 = df2.set_index(\"date\")\n",
    "df2.head()"
   ]
  },
  {
   "cell_type": "code",
   "execution_count": null,
   "metadata": {
    "scrolled": true
   },
   "outputs": [],
   "source": [
    "# Calculate the average temperature observed by station by day.\n",
    "grouped_tobs = df2.groupby(\"date\").describe()\n",
    "grouped_tobs.head()"
   ]
  },
  {
   "cell_type": "code",
   "execution_count": null,
   "metadata": {},
   "outputs": [],
   "source": [
    "# Extract the mean and the standard deviation from the grouped temperature observations\n",
    "tobs_df = grouped_tobs[\"tobs\"].iloc[:, 1:3]\n",
    "tobs_df.head()"
   ]
  },
  {
   "cell_type": "code",
   "execution_count": null,
   "metadata": {},
   "outputs": [],
   "source": [
    "# Determine the data type for date\n",
    "tobs_df.index.values.dtype"
   ]
  },
  {
   "cell_type": "code",
   "execution_count": null,
   "metadata": {},
   "outputs": [],
   "source": [
    "# Convert string to datetime to period\n",
    "tobs_df[\"mean\"].index = pd.to_datetime(tobs_df[\"mean\"].index) # string to datetime\n",
    "tobs_df.index = tobs_df[\"mean\"].to_period(freq = \"D\").index # datetime to period\n",
    "tobs_df.index"
   ]
  },
  {
   "cell_type": "code",
   "execution_count": null,
   "metadata": {},
   "outputs": [],
   "source": [
    "# Timeseries plot by a daily frequency\n",
    "tobs_df.plot(y = \"mean\", figsize = (15,8), legend = False)\n",
    "plt.xlabel(\"Date\", fontsize = 16)\n",
    "plt.ylabel(\"Temperature (°F)\", fontsize = 16)\n",
    "plt.tight_layout()\n",
    "plt.savefig(\"Images/tobs.svg\")"
   ]
  },
  {
   "cell_type": "code",
   "execution_count": null,
   "metadata": {},
   "outputs": [],
   "source": [
    "# Plot the temperature in a histogram\n",
    "# NB: Histograms use arbitrarily set number of bins, which affects the shape of the distribution\n",
    "plt.figure(figsize = (15,8))\n",
    "plt.hist(tobs_df[\"mean\"], bins = 50, edgecolor = \"black\")\n",
    "plt.xlabel(\"Temperature (°F)\", fontsize = 16)\n",
    "plt.ylabel(\"Frequency\", fontsize = 16)\n",
    "plt.xlim(60, 85)\n",
    "plt.tight_layout()\n",
    "plt.savefig(\"Images/hist_temp.svg\")"
   ]
  },
  {
   "cell_type": "code",
   "execution_count": null,
   "metadata": {},
   "outputs": [],
   "source": [
    "# Kernel density plot for temperature (with a rug plot)\n",
    "# Resource: https://towardsdatascience.com/histograms-and-density-plots-in-python-f6bda88f5ac0\n",
    "# Rug plot shows where each value in the distribution lies\n",
    "plt.figure(figsize = (15,8))\n",
    "sns.distplot(tobs_df[\"mean\"], kde = True, hist = False, rug = True,\n",
    "             kde_kws = {\"shade\": True, \"linewidth\": 3},\n",
    "             rug_kws = {\"color\": \"black\"})\n",
    "plt.xlabel(\"Temperature (°F)\", fontsize = 16)\n",
    "plt.ylabel(\"Density\", fontsize = 16)\n",
    "plt.tight_layout()\n",
    "plt.savefig(\"Images/density_temp.svg\")"
   ]
  },
  {
   "cell_type": "code",
   "execution_count": null,
   "metadata": {},
   "outputs": [],
   "source": [
    "# Get the mean by month\n",
    "tobs_df_monthly_avg = tobs_df.iloc[:, 0:1].resample(\"M\").mean() \n",
    "tobs_df_monthly_avg.head()"
   ]
  },
  {
   "cell_type": "code",
   "execution_count": null,
   "metadata": {},
   "outputs": [],
   "source": [
    "# Monthly temperature averages for one year\n",
    "x = np.arange(len(tobs_df_monthly_avg.index))\n",
    "y = tobs_df_monthly_avg[\"mean\"].values\n",
    "plt.figure(figsize = (15,8))\n",
    "plt.plot(x, y, marker = \"o\", markersize = 12, color = \"red\")\n",
    "\n",
    "# Plot attributes\n",
    "plt.ylabel(\"Average Temperature(°F)\", fontsize = 16)\n",
    "plt.xlabel(\"Month\", fontsize = 16)\n",
    "plt.xticks(x, tobs_df_monthly_avg.index.values, rotation = 90)\n",
    "plt.tight_layout()\n",
    "plt.savefig(\"Images/temp_monthly_avg.svg\")"
   ]
  },
  {
   "cell_type": "code",
   "execution_count": null,
   "metadata": {},
   "outputs": [],
   "source": [
    "# Create a scatterplot matrix to show relationships among the environmental variables\n",
    "sns.set(font_scale = 1.25)\n",
    "g = sns.pairplot(grouped_df3, diag_kind = \"kde\", diag_kws = dict(shade = True))\n",
    "plt.tight_layout()\n",
    "plt.savefig(\"Images/scatter_matrix_envi.svg\")"
   ]
  },
  {
   "cell_type": "code",
   "execution_count": null,
   "metadata": {},
   "outputs": [],
   "source": [
    "# This function called `calc_temps` will accept start date and end date in the format \n",
    "# '%Y-%m-%d' and return the minimum, average, and maximum temperatures for that range of dates\n",
    "def calc_temps(start_date, end_date):\n",
    "    \"\"\"TMIN, TAVG, and TMAX for a list of dates.\n",
    "    \n",
    "    Args:\n",
    "        start_date (string): A date string in the format %Y-%m-%d\n",
    "        end_date (string): A date string in the format %Y-%m-%d\n",
    "        \n",
    "    Returns:\n",
    "        TMIN, TAVE, and TMAX\n",
    "    \"\"\"\n",
    "    \n",
    "    return session.query(func.min(Measurement.tobs), func.avg(Measurement.tobs), \n",
    "                         func.max(Measurement.tobs)).\\\n",
    "                         filter(Measurement.date >= start_date).\\\n",
    "                         filter(Measurement.date <= end_date).all()\n"
   ]
  },
  {
   "cell_type": "code",
   "execution_count": null,
   "metadata": {},
   "outputs": [],
   "source": [
    "# Temperatures during the last 12 months\n",
    "summary_temps = calc_temps(start_date, end_date)\n",
    "\n",
    "print(\n",
    "    f\"Temperature records during the last 12 months:\\n\"\n",
    "    f\"\\nMin Temperature: {summary_temps[0][0]} °F\"\n",
    "    f\"\\nMax Temperature: {summary_temps[0][2]} °F\"\n",
    "    f\"\\nAverage Temperature: {round(summary_temps[0][1],1)} °F\")"
   ]
  },
  {
   "cell_type": "markdown",
   "metadata": {},
   "source": [
    "## Personal Vacation"
   ]
  },
  {
   "cell_type": "code",
   "execution_count": null,
   "metadata": {},
   "outputs": [],
   "source": [
    "# Personal vacation dates, use while loops to make sure that entries are valid.\n",
    "while True:\n",
    "    print(\"What is the start date of your vacation? (yyyy-mm-dd)\")\n",
    "    vac_start = input()\n",
    "\n",
    "    if vac_start not in list(df3[\"date\"]):\n",
    "        print(\"Please try again. Date is not in the list.\\nFollow this format (yyyy-mm-dd): 2016-02-29\\n\")\n",
    "    else:\n",
    "        break\n",
    "\n",
    "while True:        \n",
    "    print(\"What is the end date of your vacation? (yyyy-mm-dd)\")\n",
    "    vac_end = input()\n",
    "        \n",
    "    if vac_end not in list(df3[\"date\"]):\n",
    "        print(\"Please try again. Follow this format (yyyy-mm-dd): 2016-02-29\")\n",
    "    else:\n",
    "        break\n",
    "\n",
    "while vac_start > vac_end:\n",
    "    print(\"\\nYour vacation cannot end before it started! Please try again.\")\n",
    "    \n",
    "    print(\"What is the end date of your vacation? (yyyy-mm-dd)\")\n",
    "    vac_end = input()\n",
    "\n",
    "print(\"Calculating....\")"
   ]
  },
  {
   "cell_type": "code",
   "execution_count": null,
   "metadata": {},
   "outputs": [],
   "source": [
    "# Use your previous function `calc_temps` to calculate the tmin, tavg, and tmax \n",
    "# for your trip using the previous year's data for those same dates.\n",
    "summary_vac_temps = calc_temps(vac_start, vac_end)\n",
    "\n",
    "print(\n",
    "    f\"Oahu, HI temperatures during my vacation ({vac_start} to {vac_end}):\\n\"\n",
    "    f\"\\nMin Temperature: {summary_vac_temps[0][0]} °F\"\n",
    "    f\"\\nMax Temperature: {summary_vac_temps[0][2]} °F\"\n",
    "    f\"\\nAverage Temperature: {round(summary_vac_temps[0][1],1)} °F\")"
   ]
  },
  {
   "cell_type": "code",
   "execution_count": null,
   "metadata": {},
   "outputs": [],
   "source": [
    "# Plot the results from your previous query as a box plot.\n",
    "vacation_temp = session.query(Measurement.tobs).\\\n",
    "                         filter(Measurement.date >= vac_start).\\\n",
    "                         filter(Measurement.date <= vac_end).all()\n",
    "\n",
    "# Create a list of temperatures recorded during the vacation period\n",
    "temps = [temp[0] for temp in vacation_temp]\n",
    "\n",
    "# Create box plot to show range of temperatures recorded during the vacation period\n",
    "plt.figure(figsize = (15,8))\n",
    "plt.boxplot(temps, showmeans = True)\n",
    "plt.ylabel(f\"Temperature (°F)\", fontsize = 16)\n",
    "plt.title(f\"Temperature range during the vacation period, {vac_start} to {vac_end}\", fontsize = 16)\n",
    "plt.savefig(\"Images/box_temperature_vacation.svg\")"
   ]
  },
  {
   "cell_type": "code",
   "execution_count": null,
   "metadata": {},
   "outputs": [],
   "source": [
    "# Calculating total rainfall during the vacation using SQLAlchemy\n",
    "sel4 = [Measurement.station, Station.name, \n",
    "        func.sum(Measurement.prcp).label(\"rainfall_sum\"), \n",
    "        Station.elevation, Station.latitude, Station.longitude]\n",
    "\n",
    "vac_rainfall = session.query(*sel4).filter(Measurement.station == Station.station).\\\n",
    "               filter(Measurement.date >= vac_start).\\\n",
    "               filter(Measurement.date <= vac_end).\\\n",
    "               group_by(Measurement.station).\\\n",
    "               order_by(func.sum(Measurement.prcp).desc()).all()\n",
    "\n",
    "pd.DataFrame(vac_rainfall)"
   ]
  },
  {
   "cell_type": "markdown",
   "metadata": {},
   "source": [
    "## Optional Challenge Assignment"
   ]
  },
  {
   "cell_type": "code",
   "execution_count": null,
   "metadata": {},
   "outputs": [],
   "source": [
    "# Create a query that will calculate the daily normals \n",
    "# (i.e. the averages for tmin, tmax, and tavg for all historic data matching a specific \n",
    "# month and day)\n",
    "\n",
    "def daily_normals(date):\n",
    "    \"\"\"Daily Normals.\n",
    "    \n",
    "    Args:\n",
    "        date (str): A date string in the format '%m-%d'\n",
    "        \n",
    "    Returns:\n",
    "        A list of tuples containing the daily normals, tmin, tavg, and tmax\n",
    "    \n",
    "    \"\"\"\n",
    "    \n",
    "    sel = [func.min(Measurement.tobs), func.avg(Measurement.tobs), func.max(Measurement.tobs)]\n",
    "    return session.query(*sel).filter(func.strftime(\"%m-%d\", Measurement.date) == date).all()\n",
    "    \n",
    "daily_normals(\"01-01\")"
   ]
  },
  {
   "cell_type": "code",
   "execution_count": null,
   "metadata": {},
   "outputs": [],
   "source": [
    "# calculate the daily normals for your trip\n",
    "# push each tuple of calculations into a list called `normals`\n",
    "\n",
    "# Use the start and end date to create a range of dates\n",
    "dates = session.query(Measurement.date).\\\n",
    "        filter(Measurement.date >= vac_start).\\\n",
    "        filter(Measurement.date <= vac_end).\\\n",
    "        group_by(Measurement.date).all()\n",
    "\n",
    "# Dates contains lists of lists of tuples. There is a need to extract the values \n",
    "# inside the tuples so that the mm and dd could be placed in a list\n",
    "date_range = [date[0] for date in dates]\n",
    "\n",
    "date_range"
   ]
  },
  {
   "cell_type": "code",
   "execution_count": null,
   "metadata": {},
   "outputs": [],
   "source": [
    "# Stip off the year and save a list of %m-%d strings\n",
    "mm_dd_range = [date[5:10] for date in date_range]\n",
    "\n",
    "mm_dd_range"
   ]
  },
  {
   "cell_type": "code",
   "execution_count": null,
   "metadata": {},
   "outputs": [],
   "source": [
    "# Loop through the list of %m-%d strings and calculate the normals for each date\n",
    "normals_lst = [daily_normals(mm_dd) for mm_dd in mm_dd_range]\n",
    "normals = [item[0] for item in normals_lst]\n",
    "normals"
   ]
  },
  {
   "cell_type": "code",
   "execution_count": null,
   "metadata": {},
   "outputs": [],
   "source": [
    "# Load the previous query results into a Pandas DataFrame\n",
    "normal_df = pd.DataFrame(normals, columns = [\"tmin\", \"tavg\", \"tmax\"])\n",
    "\n",
    "# add the `trip_dates` range as the `date` index\n",
    "normal_df[\"date\"] = pd.Series(mm_dd_range)\n",
    "\n",
    "normal_df.head()"
   ]
  },
  {
   "cell_type": "code",
   "execution_count": null,
   "metadata": {
    "scrolled": false
   },
   "outputs": [],
   "source": [
    "# Plot the daily normals as an area plot with `stacked=False`\n",
    "x = np.arange(0,len(normal_df))\n",
    "\n",
    "normal_df.plot.area(stacked = False, alpha = 0.5, figsize = (15,8))\n",
    "plt.xlabel(\"Date\", fontsize = 16)\n",
    "plt.ylabel(\"Temperature (°F)\", fontsize = 16)\n",
    "plt.xticks(x, mm_dd_range, rotation = 45)\n",
    "plt.legend(fontsize = 16)\n",
    "plt.tight_layout()\n",
    "plt.savefig(\"Images/area_temp_vacation.svg\")"
   ]
  }
 ],
 "metadata": {
  "kernel_info": {
   "name": "python3"
  },
  "kernelspec": {
   "display_name": "Python 3",
   "language": "python",
   "name": "python3"
  },
  "language_info": {
   "codemirror_mode": {
    "name": "ipython",
    "version": 3
   },
   "file_extension": ".py",
   "mimetype": "text/x-python",
   "name": "python",
   "nbconvert_exporter": "python",
   "pygments_lexer": "ipython3",
   "version": "3.6.5"
  },
  "nteract": {
   "version": "0.9.1"
  },
  "varInspector": {
   "cols": {
    "lenName": 16,
    "lenType": 16,
    "lenVar": 40
   },
   "kernels_config": {
    "python": {
     "delete_cmd_postfix": "",
     "delete_cmd_prefix": "del ",
     "library": "var_list.py",
     "varRefreshCmd": "print(var_dic_list())"
    },
    "r": {
     "delete_cmd_postfix": ") ",
     "delete_cmd_prefix": "rm(",
     "library": "var_list.r",
     "varRefreshCmd": "cat(var_dic_list()) "
    }
   },
   "types_to_exclude": [
    "module",
    "function",
    "builtin_function_or_method",
    "instance",
    "_Feature"
   ],
   "window_display": false
  }
 },
 "nbformat": 4,
 "nbformat_minor": 2
}
